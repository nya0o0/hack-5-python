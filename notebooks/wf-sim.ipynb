{
 "cells": [
  {
   "cell_type": "code",
   "execution_count": 1,
   "id": "5569af9b-14a0-40c6-b456-ee50f00d93d8",
   "metadata": {},
   "outputs": [],
   "source": [
    "import random"
   ]
  },
  {
   "cell_type": "code",
   "execution_count": 2,
   "id": "db906e1a-7ab8-442b-b756-609e10a606fa",
   "metadata": {},
   "outputs": [],
   "source": [
    "def init (N,f):\n",
    "    num_1 = round(N * f) # Calculate the number of (a) in the population\n",
    "    num_0 = N - num_1 # Calculate the number of (A) in the population\n",
    "    population = [0] * num_0 + [1] * num_1 # Create the population list\n",
    "    random.shuffle(population) # Randomly shuffle the list\n",
    "    return population"
   ]
  },
  {
   "cell_type": "code",
   "execution_count": 3,
   "id": "d648234a-367d-4e40-9927-150471b99db7",
   "metadata": {},
   "outputs": [
    {
     "data": {
      "text/plain": [
       "[0, 0, 0, 1, 1, 1, 0, 1, 1, 0]"
      ]
     },
     "execution_count": 3,
     "metadata": {},
     "output_type": "execute_result"
    }
   ],
   "source": [
    "# Test the init function\n",
    "pop = init(N=10, f=0.5)\n",
    "pop"
   ]
  },
  {
   "cell_type": "code",
   "execution_count": 5,
   "id": "c844e43e-0dc7-4269-8504-495494c9f208",
   "metadata": {},
   "outputs": [],
   "source": [
    "def step (pop):\n",
    "    # Randomly choose k elements from the previous list\n",
    "    next_gen = random.choices(pop, k=len(pop))\n",
    "    return next_gen"
   ]
  },
  {
   "cell_type": "code",
   "execution_count": 6,
   "id": "5e1fa5a8-b5a8-4d22-891f-24407e13cde4",
   "metadata": {},
   "outputs": [
    {
     "data": {
      "text/plain": [
       "[1, 1, 0, 1, 0, 0, 0, 0, 0, 0]"
      ]
     },
     "execution_count": 6,
     "metadata": {},
     "output_type": "execute_result"
    }
   ],
   "source": [
    "# Test the step function\n",
    "step(pop)"
   ]
  },
  {
   "cell_type": "code",
   "execution_count": 10,
   "id": "0bedc284-7840-4081-9b8b-93d2f2d4d119",
   "metadata": {},
   "outputs": [],
   "source": [
    "def wf (N,f,ngens):\n",
    "    gen = 0 # initiate the generation count\n",
    "    # Create an empty frequency list to store the (a) frequencies in each generation\n",
    "    frequencies = [] \n",
    "    # Create the 0 generation\n",
    "    pop = init(N,f)\n",
    "    # Get the following generation\n",
    "    for i in range (ngens):\n",
    "        pop = step(pop)\n",
    "        gen += 1 # Generation count +1\n",
    "        # Calculate the (a) frequency\n",
    "        freq_a = round(pop.count(1)/N,4)\n",
    "        frequencies.append(freq_a) # Store the a frequency\n",
    "        # If (a) is fixed or lost\n",
    "        if freq_a == 1 or freq_a == 0:\n",
    "            break\n",
    "    \n",
    "    print (f'generation: {gen}; freq(a): {freq_a}')\n",
    "    return frequencies"
   ]
  },
  {
   "cell_type": "code",
   "execution_count": 9,
   "id": "9f46d816-807d-4423-a41a-76d54e4b2546",
   "metadata": {},
   "outputs": [
    {
     "name": "stdout",
     "output_type": "stream",
     "text": [
      "generation: 100; freq(a): 0.03\n"
     ]
    }
   ],
   "source": [
    "wf(N=100, f=0.2, ngens=100)"
   ]
  },
  {
   "cell_type": "code",
   "execution_count": 14,
   "id": "5c8d9028-f75c-45e0-9948-a4ac44be724e",
   "metadata": {},
   "outputs": [],
   "source": [
    "def iterate_wf(N,f,ngens,repeats):\n",
    "    fixed_count = 0 # Initiate the count\n",
    "    for i in range (repeats):\n",
    "        print(f'Repeat {i+1}:')\n",
    "        frequencies = wf(N,f,ngens)\n",
    "        if frequencies[-1] == 1:\n",
    "            fixed_count += 1\n",
    "    return f'The probability of (a) is fixed: {fixed_count/repeats}.'"
   ]
  },
  {
   "cell_type": "code",
   "execution_count": 16,
   "id": "7cfe4cf9-24c2-4717-9022-3bc3d5ee1f41",
   "metadata": {},
   "outputs": [
    {
     "name": "stdout",
     "output_type": "stream",
     "text": [
      "Repeat 1:\n",
      "generation: 117; freq(a): 1.0\n",
      "Repeat 2:\n",
      "generation: 345; freq(a): 0.0\n",
      "Repeat 3:\n",
      "generation: 67; freq(a): 0.0\n",
      "Repeat 4:\n",
      "generation: 24; freq(a): 0.0\n",
      "Repeat 5:\n",
      "generation: 243; freq(a): 0.0\n",
      "Repeat 6:\n",
      "generation: 15; freq(a): 0.0\n",
      "Repeat 7:\n",
      "generation: 42; freq(a): 0.0\n",
      "Repeat 8:\n",
      "generation: 39; freq(a): 0.0\n",
      "Repeat 9:\n",
      "generation: 108; freq(a): 0.0\n",
      "Repeat 10:\n",
      "generation: 287; freq(a): 1.0\n",
      "Repeat 11:\n",
      "generation: 8; freq(a): 0.0\n",
      "Repeat 12:\n",
      "generation: 81; freq(a): 0.0\n",
      "Repeat 13:\n",
      "generation: 26; freq(a): 0.0\n",
      "Repeat 14:\n",
      "generation: 260; freq(a): 0.0\n",
      "Repeat 15:\n",
      "generation: 257; freq(a): 1.0\n",
      "Repeat 16:\n",
      "generation: 74; freq(a): 0.0\n",
      "Repeat 17:\n",
      "generation: 419; freq(a): 0.0\n",
      "Repeat 18:\n",
      "generation: 30; freq(a): 0.0\n",
      "Repeat 19:\n",
      "generation: 64; freq(a): 0.0\n",
      "Repeat 20:\n",
      "generation: 46; freq(a): 0.0\n",
      "Repeat 21:\n",
      "generation: 76; freq(a): 0.0\n",
      "Repeat 22:\n",
      "generation: 93; freq(a): 1.0\n",
      "Repeat 23:\n",
      "generation: 33; freq(a): 0.0\n",
      "Repeat 24:\n",
      "generation: 10; freq(a): 0.0\n",
      "Repeat 25:\n",
      "generation: 43; freq(a): 1.0\n",
      "Repeat 26:\n",
      "generation: 72; freq(a): 0.0\n",
      "Repeat 27:\n",
      "generation: 303; freq(a): 1.0\n",
      "Repeat 28:\n",
      "generation: 98; freq(a): 0.0\n",
      "Repeat 29:\n",
      "generation: 15; freq(a): 0.0\n",
      "Repeat 30:\n",
      "generation: 245; freq(a): 1.0\n",
      "Repeat 31:\n",
      "generation: 38; freq(a): 0.0\n",
      "Repeat 32:\n",
      "generation: 185; freq(a): 0.0\n",
      "Repeat 33:\n",
      "generation: 167; freq(a): 0.0\n",
      "Repeat 34:\n",
      "generation: 59; freq(a): 0.0\n",
      "Repeat 35:\n",
      "generation: 14; freq(a): 0.0\n",
      "Repeat 36:\n",
      "generation: 290; freq(a): 0.0\n",
      "Repeat 37:\n",
      "generation: 126; freq(a): 1.0\n",
      "Repeat 38:\n",
      "generation: 55; freq(a): 0.0\n",
      "Repeat 39:\n",
      "generation: 399; freq(a): 1.0\n",
      "Repeat 40:\n",
      "generation: 46; freq(a): 0.0\n",
      "Repeat 41:\n",
      "generation: 78; freq(a): 0.0\n",
      "Repeat 42:\n",
      "generation: 50; freq(a): 0.0\n",
      "Repeat 43:\n",
      "generation: 94; freq(a): 0.0\n",
      "Repeat 44:\n",
      "generation: 30; freq(a): 0.0\n",
      "Repeat 45:\n",
      "generation: 132; freq(a): 1.0\n",
      "Repeat 46:\n",
      "generation: 227; freq(a): 1.0\n",
      "Repeat 47:\n",
      "generation: 76; freq(a): 1.0\n",
      "Repeat 48:\n",
      "generation: 26; freq(a): 0.0\n",
      "Repeat 49:\n",
      "generation: 76; freq(a): 0.0\n",
      "Repeat 50:\n",
      "generation: 30; freq(a): 0.0\n",
      "Repeat 51:\n",
      "generation: 59; freq(a): 0.0\n",
      "Repeat 52:\n",
      "generation: 19; freq(a): 0.0\n",
      "Repeat 53:\n",
      "generation: 36; freq(a): 0.0\n",
      "Repeat 54:\n",
      "generation: 240; freq(a): 1.0\n",
      "Repeat 55:\n",
      "generation: 79; freq(a): 0.0\n",
      "Repeat 56:\n",
      "generation: 12; freq(a): 0.0\n",
      "Repeat 57:\n",
      "generation: 18; freq(a): 0.0\n",
      "Repeat 58:\n",
      "generation: 19; freq(a): 0.0\n",
      "Repeat 59:\n",
      "generation: 130; freq(a): 0.0\n",
      "Repeat 60:\n",
      "generation: 67; freq(a): 0.0\n",
      "Repeat 61:\n",
      "generation: 164; freq(a): 1.0\n",
      "Repeat 62:\n",
      "generation: 42; freq(a): 0.0\n",
      "Repeat 63:\n",
      "generation: 36; freq(a): 0.0\n",
      "Repeat 64:\n",
      "generation: 21; freq(a): 0.0\n",
      "Repeat 65:\n",
      "generation: 26; freq(a): 0.0\n",
      "Repeat 66:\n",
      "generation: 18; freq(a): 0.0\n",
      "Repeat 67:\n",
      "generation: 46; freq(a): 0.0\n",
      "Repeat 68:\n",
      "generation: 45; freq(a): 0.0\n",
      "Repeat 69:\n",
      "generation: 155; freq(a): 1.0\n",
      "Repeat 70:\n",
      "generation: 33; freq(a): 0.0\n",
      "Repeat 71:\n",
      "generation: 28; freq(a): 0.0\n",
      "Repeat 72:\n",
      "generation: 114; freq(a): 0.0\n",
      "Repeat 73:\n",
      "generation: 60; freq(a): 0.0\n",
      "Repeat 74:\n",
      "generation: 158; freq(a): 0.0\n",
      "Repeat 75:\n",
      "generation: 10; freq(a): 0.0\n",
      "Repeat 76:\n",
      "generation: 65; freq(a): 0.0\n",
      "Repeat 77:\n",
      "generation: 33; freq(a): 0.0\n",
      "Repeat 78:\n",
      "generation: 242; freq(a): 0.0\n",
      "Repeat 79:\n",
      "generation: 54; freq(a): 0.0\n",
      "Repeat 80:\n",
      "generation: 17; freq(a): 0.0\n",
      "Repeat 81:\n",
      "generation: 13; freq(a): 0.0\n",
      "Repeat 82:\n",
      "generation: 161; freq(a): 1.0\n",
      "Repeat 83:\n",
      "generation: 49; freq(a): 1.0\n",
      "Repeat 84:\n",
      "generation: 147; freq(a): 0.0\n",
      "Repeat 85:\n",
      "generation: 19; freq(a): 0.0\n",
      "Repeat 86:\n",
      "generation: 39; freq(a): 0.0\n",
      "Repeat 87:\n",
      "generation: 323; freq(a): 0.0\n",
      "Repeat 88:\n",
      "generation: 19; freq(a): 0.0\n",
      "Repeat 89:\n",
      "generation: 55; freq(a): 0.0\n",
      "Repeat 90:\n",
      "generation: 114; freq(a): 0.0\n",
      "Repeat 91:\n",
      "generation: 90; freq(a): 0.0\n",
      "Repeat 92:\n",
      "generation: 108; freq(a): 1.0\n",
      "Repeat 93:\n",
      "generation: 245; freq(a): 0.0\n",
      "Repeat 94:\n",
      "generation: 95; freq(a): 0.0\n",
      "Repeat 95:\n",
      "generation: 23; freq(a): 0.0\n",
      "Repeat 96:\n",
      "generation: 37; freq(a): 0.0\n",
      "Repeat 97:\n",
      "generation: 79; freq(a): 1.0\n",
      "Repeat 98:\n",
      "generation: 30; freq(a): 0.0\n",
      "Repeat 99:\n",
      "generation: 28; freq(a): 0.0\n",
      "Repeat 100:\n",
      "generation: 162; freq(a): 0.0\n"
     ]
    },
    {
     "data": {
      "text/plain": [
       "'The probability of (a) is fixed: 0.19.'"
      ]
     },
     "execution_count": 16,
     "metadata": {},
     "output_type": "execute_result"
    }
   ],
   "source": [
    "# Test\n",
    "iterate_wf(100,0.2,1000,100)"
   ]
  },
  {
   "cell_type": "code",
   "execution_count": null,
   "id": "fb1c1eaf-357e-4c1a-99d1-5cb530e411fe",
   "metadata": {},
   "outputs": [],
   "source": []
  }
 ],
 "metadata": {
  "kernelspec": {
   "display_name": "Python 3 (ipykernel)",
   "language": "python",
   "name": "python3"
  },
  "language_info": {
   "codemirror_mode": {
    "name": "ipython",
    "version": 3
   },
   "file_extension": ".py",
   "mimetype": "text/x-python",
   "name": "python",
   "nbconvert_exporter": "python",
   "pygments_lexer": "ipython3",
   "version": "3.12.2"
  }
 },
 "nbformat": 4,
 "nbformat_minor": 5
}

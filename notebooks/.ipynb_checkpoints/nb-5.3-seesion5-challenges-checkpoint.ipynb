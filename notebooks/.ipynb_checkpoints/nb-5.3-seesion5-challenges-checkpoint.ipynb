{
 "cells": [
  {
   "cell_type": "markdown",
   "metadata": {},
   "source": [
    "# Notebook 5.3: Session 5 challenges\n",
    "\n",
    "Here are more challenges to test your knowledge of variables, lists, and for loops."
   ]
  },
  {
   "cell_type": "markdown",
   "metadata": {},
   "source": [
    "### Challenges"
   ]
  },
  {
   "cell_type": "markdown",
   "metadata": {},
   "source": [
    "A. Create code that includes a loop which iterates over the a list of integers and prints the sum. Use\n",
    "this list as a test case [1, 5, 2, 6] and print the results in this form:\n",
    "```\n",
    "The sum of the numbers in the list is 14\n",
    "```\n",
    "\n",
    "Hint: Use the += operator, and a variable which is instantiated outside the loop, but modified inside it."
   ]
  },
  {
   "cell_type": "code",
   "execution_count": 1,
   "metadata": {},
   "outputs": [
    {
     "name": "stdout",
     "output_type": "stream",
     "text": [
      "The sum of the numbers in the list is 14\n"
     ]
    }
   ],
   "source": [
    "# The function for getting the sum\n",
    "def print_sum (list):\n",
    "    sum = 0\n",
    "    for i in list:\n",
    "        sum += i\n",
    "    print (f'The sum of the numbers in the list is {sum}')\n",
    "\n",
    "# Test\n",
    "list_a = [1,5,2,6]\n",
    "print_sum(list_a)"
   ]
  },
  {
   "cell_type": "markdown",
   "metadata": {},
   "source": [
    "B. Write python code to print the following DNA sequence pattern using a loop.\n",
    "```\n",
    "CATG\n",
    "CATGCATG\n",
    "CATGCATGCATG\n",
    "CATGCATGCATGCATG\n",
    "CATGCATGCATGCATGCATG\n",
    "```"
   ]
  },
  {
   "cell_type": "code",
   "execution_count": 2,
   "metadata": {},
   "outputs": [
    {
     "name": "stdout",
     "output_type": "stream",
     "text": [
      "CATG\n",
      "CATGCATG\n",
      "CATGCATGCATG\n",
      "CATGCATGCATGCATG\n",
      "CATGCATGCATGCATGCATG\n"
     ]
    }
   ],
   "source": [
    "for i in range (5):\n",
    "    print (\"CATG\" * (i+1))"
   ]
  },
  {
   "cell_type": "markdown",
   "metadata": {},
   "source": [
    "C. Create code with a nested loop based on the list of lists [[\"apple\", \"orange\"], [\"carrot\", \"cabbage\"], [\"chicken\", \"beef\"]] and produces the following output:\n",
    "```\n",
    "apple\n",
    "orange\n",
    "carrot\n",
    "cabbage\n",
    "chicken\n",
    "beef\n",
    "```"
   ]
  },
  {
   "cell_type": "code",
   "execution_count": 4,
   "metadata": {},
   "outputs": [
    {
     "name": "stdout",
     "output_type": "stream",
     "text": [
      "apple\n",
      "orange\n",
      "carrot\n",
      "cabbage\n",
      "chicken\n",
      "beef\n"
     ]
    }
   ],
   "source": [
    "list_c =  [[\"apple\", \"orange\"], [\"carrot\", \"cabbage\"], [\"chicken\", \"beef\"]]\n",
    "for row in range (len(list_c)):\n",
    "    for col in range (len(list_c[row])):\n",
    "        print (list_c[row][col])"
   ]
  },
  {
   "cell_type": "markdown",
   "metadata": {},
   "source": [
    "D. Using the same input list of lists as above modify create new code so it prints the following output:\n",
    "```\n",
    "apple\n",
    "carrot\n",
    "chicken\n",
    "orange\n",
    "cabbage\n",
    "beef\n",
    "```"
   ]
  },
  {
   "cell_type": "code",
   "execution_count": 7,
   "metadata": {},
   "outputs": [
    {
     "name": "stdout",
     "output_type": "stream",
     "text": [
      "apple\n",
      "carrot\n",
      "chicken\n",
      "orange\n",
      "cabbage\n",
      "beef\n"
     ]
    }
   ],
   "source": [
    "for col in range(len(list_c[0])):\n",
    "    for row in range(len(list_c)):\n",
    "        print (list_c[row][col])"
   ]
  },
  {
   "cell_type": "markdown",
   "metadata": {},
   "source": [
    "E. Write a for loop to print the first 20 even numbers starting at 0 (hint: use range())."
   ]
  },
  {
   "cell_type": "code",
   "execution_count": 10,
   "metadata": {},
   "outputs": [
    {
     "name": "stdout",
     "output_type": "stream",
     "text": [
      "0\n",
      "2\n",
      "4\n",
      "6\n",
      "8\n",
      "10\n",
      "12\n",
      "14\n",
      "16\n",
      "18\n",
      "20\n",
      "22\n",
      "24\n",
      "26\n",
      "28\n",
      "30\n",
      "32\n",
      "34\n",
      "36\n",
      "38\n"
     ]
    }
   ],
   "source": [
    "for i in range (20):\n",
    "    print (i*2)"
   ]
  },
  {
   "cell_type": "markdown",
   "metadata": {},
   "source": [
    "F. Write a for loop to print the first 20 odd numbers starting at 101, but print them in descending order."
   ]
  },
  {
   "cell_type": "code",
   "execution_count": 11,
   "metadata": {},
   "outputs": [
    {
     "name": "stdout",
     "output_type": "stream",
     "text": [
      "101\n",
      "99\n",
      "97\n",
      "95\n",
      "93\n",
      "91\n",
      "89\n",
      "87\n",
      "85\n",
      "83\n",
      "81\n",
      "79\n",
      "77\n",
      "75\n",
      "73\n",
      "71\n",
      "69\n",
      "67\n",
      "65\n",
      "63\n"
     ]
    }
   ],
   "source": [
    "for i in range (20):\n",
    "    print (101 - i*2)"
   ]
  },
  {
   "cell_type": "markdown",
   "metadata": {},
   "source": [
    "G. Using what you have learned in the previous exercises, write code to take a the following \n",
    "DNA sequence and print only the bases with even index. For example if the\n",
    "input sequence is \"GCACGG\" the output should be \"GAG\" (remembering that 0 is also even)."
   ]
  },
  {
   "cell_type": "code",
   "execution_count": 25,
   "metadata": {},
   "outputs": [],
   "source": [
    "seq = \"\"\"\n",
    ">Calumma_boettgeri_voucher_FGZC_462\n",
    "GGAAGTATTAACCAGACACAACTACGAAAACTAATGGCCTACTCATCAATTACTAACC\n",
    "TAGGGTGGACAATAATTATTTTCACAACCGCACCACACATTGCTACACTAAACATTAT\n",
    "TATCTACATAATTATACTCATCCCACTATTCATACTCATTAAAAAAATATCTATAAAA\n",
    "ACACTGCGAGACTCAACAACTACATGAACTACGTCCCCGATAGCAAACACCCTACTAA\n",
    "TGCTAATACTTCTGTCACTAAGTGGTCTTCCCCCCCTCACAGGTTTCACCCCAAAACT\n",
    "TTTAATTTTAAACGAACTAATTTTACAAAATTTAACACCCGCTGCAACAATAATAGCC\n",
    "ATACTATCTCTAATTGGACTATTTTTTTATATCCGAACAAC\n",
    "\"\"\""
   ]
  },
  {
   "cell_type": "code",
   "execution_count": 30,
   "metadata": {},
   "outputs": [],
   "source": [
    "# Only take the sequence part\n",
    "def clean_seq (seq):\n",
    "    lines = seq.split()\n",
    "    lines = lines[1:]\n",
    "    return ''.join(lines)\n",
    "\n",
    "# Print the even index bases\n",
    "def print_even_bases(seq):\n",
    "    cleaned_seq = clean_seq(seq)\n",
    "    for i in range (0,len(cleaned_seq),2):\n",
    "        print(cleaned_seq[i], end = '')"
   ]
  },
  {
   "cell_type": "code",
   "execution_count": 31,
   "metadata": {},
   "outputs": [
    {
     "name": "stdout",
     "output_type": "stream",
     "text": [
      "GAGATACGCCATCAACATGCATACATCACTGGGAATATTTCCACCCAAATCAATACTATTTCTATTCCTCATTCTCCTAAAAACAAAAATCAATACATCTACAGCCGTGAAACTCATCATCTTTATATGCTCCCTAAGTCCCAACTTATTACACATTAAATTAACGTCAATAACAATTTTATGCATTTAACGAAC"
     ]
    }
   ],
   "source": [
    "# Test\n",
    "print_even_bases(seq)"
   ]
  },
  {
   "cell_type": "code",
   "execution_count": null,
   "metadata": {},
   "outputs": [],
   "source": []
  }
 ],
 "metadata": {
  "kernelspec": {
   "display_name": "Python 3 (ipykernel)",
   "language": "python",
   "name": "python3"
  },
  "language_info": {
   "codemirror_mode": {
    "name": "ipython",
    "version": 3
   },
   "file_extension": ".py",
   "mimetype": "text/x-python",
   "name": "python",
   "nbconvert_exporter": "python",
   "pygments_lexer": "ipython3",
   "version": "3.12.2"
  }
 },
 "nbformat": 4,
 "nbformat_minor": 4
}
